{
 "cells": [
  {
   "cell_type": "markdown",
   "metadata": {},
   "source": [
    "# Finite Element Methods HW 2"
   ]
  },
  {
   "cell_type": "markdown",
   "metadata": {},
   "source": [
    "**1** The point matrix is: $$P =\\begin{pmatrix} 0 &0.5 &1 &0 &0.5 &1 &0 &0.5 &1 \\\\ 0 &0 &0 &0.5 &0.5 &0.5 &1 &1 &1 \\end{pmatrix}$$"
   ]
  },
  {
   "cell_type": "markdown",
   "metadata": {},
   "source": [
    "Whereas the connectivity matrix is:\n",
    "\n",
    "$$T = \\begin{pmatrix} 1 &1 &2 &2 &4 &4 &5 &5 \\\\ 5 &2 &6 &3 &8 &5 &9 &6\\\\ 4 &5 &5 &6 &7 &8 &8 &9 \\end{pmatrix}$$"
   ]
  },
  {
   "cell_type": "markdown",
   "metadata": {},
   "source": [
    "**2** Let $h:N_\\mathbb{Z} \\rightarrow \\mathbb{R}$.\n",
    "\n",
    "$$\n",
    "h(N_a,N_b) = \\begin{cases}\n",
    "\\sqrt{0.5} & a = 1,b=5 \\\\\n",
    "\\sqrt{0.5} & a=2,b=6 \\\\\n",
    "\\sqrt{0.5} & a=4, b=8 \\\\\n",
    "\\sqrt{0.5} & a = 5, b=9 \n",
    "\\end{cases}\n",
    "$$\n"
   ]
  },
  {
   "cell_type": "markdown",
   "metadata": {},
   "source": [
    "**3** The drawings are at the end of this document"
   ]
  },
  {
   "cell_type": "markdown",
   "metadata": {},
   "source": [
    "**4** Observe that our grid spaceing is uniform at $h= \\frac{1}{2}$, and consequently $|K| = \\frac{1}{8}$. Now observe that the mesh given can be considered as a graph, and $\\int_K \\phi_i \\phi_j = 0$ whenever the graph geodesic $d(N_i,N_j) \\geq 2$, but granted the graph diameter is $2$ so the distance is at most $2$. \n",
    "\n",
    "Thus we realize that the mass matrix is:\n",
    "$$\n",
    "\\begin{pmatrix}\n",
    "\\int_k \\phi_1 \\phi_1 & \\int_k \\phi_1 \\phi_2 & 0 & \\int_k \\phi_1 \\phi_4 & \\int_k \\phi_1 \\phi_5 & 0 & 0 & 0 & 0 \\\\\n",
    " \\int_k \\phi_2 \\phi_1 & \\int_k \\phi_2 \\phi_2 & \\int_k \\phi_2 \\phi_3 & 0 & \\int_k \\phi_2 \\phi_5 & \\int_k \\phi_2 \\phi_6 & 0 &0 &0 \\\\\n",
    " 0 & \\int_k \\phi_3 \\phi_2 & \\int_k \\phi_3 \\phi_3 & 0 & 0 &\\int_k \\phi_3 \\phi_6 & 0 &0 &0 \\\\\n",
    " \\int_k \\phi_4 \\phi_1 &0 &0 & \\int_k \\phi_4 \\phi_4 & \\int_k \\phi_4 \\phi_5 &0 & \\int_k \\phi_4 \\phi_7 & \\int_k \\phi_4 \\phi_8 &0 \\\\\n",
    " \\int_k \\phi_5 \\phi_1 &\\int_k \\phi_5 \\phi_2 & 0 & \\int_k \\phi_5 \\phi_4 & \\int_k \\phi_5 \\phi_5 & \\int_k \\phi_5 \\phi_6 &0 & \\int_k \\phi_5 \\phi_8 & \\int_k \\phi_5 \\phi_9 \\\\\n",
    " 0 & \\int_k \\phi_6 \\phi_2 &\\int_k \\phi_6 \\phi_3 & 0 & \\int_k \\phi_6 \\phi_5 & \\int_k \\phi_6 \\phi_6 & 0 & 0 & \\int_k \\phi_6 \\phi_9 \\\\\n",
    " 0 & 0 & 0 & \\int_k \\phi_7 \\phi_4 &0 &0 & \\int_k \\phi_7 \\phi_7 & \\int_k \\phi_7 \\phi_8 & 0 \\\\\n",
    " 0 & 0 &0 &\\int_k \\phi_8 \\phi_4 &\\int_k \\phi_8 \\phi_5 &0 & \\int_k \\phi_8 \\phi_7 & \\int_k \\phi_8 \\phi_8 & \\int_k \\phi_8 \\phi_9\\\\\n",
    " 0 & 0 & 0 &0 & \\int_k \\phi_9 \\phi_5 & \\int_k \\phi_9 \\phi_6 & 0 & \\int_k \\phi_9 \\phi_8 & \\int_k \\phi_9 \\phi_9 \n",
    "\\end{pmatrix}\n",
    "$$"
   ]
  },
  {
   "cell_type": "markdown",
   "metadata": {},
   "source": [
    "**5** Observe that:\n",
    "$$\n",
    "\\phi_1 (N_i) = \n",
    "\\begin{cases}\n",
    "1 & i=1 \\\\\n",
    "0 & i \\neq 1\n",
    "\\end{cases}\n",
    "$$\n",
    "\n",
    "$$\n",
    "\\phi_2 (N_i) = \n",
    "\\begin{cases}\n",
    "1 & i=2 \\\\\n",
    "0 & i \\neq 2\n",
    "\\end{cases}\n",
    "$$\n",
    "$$\n",
    "\\phi_5 (N_i) = \n",
    "\\begin{cases}\n",
    "1 & i=5 \\\\\n",
    "0 & i \\neq 5\n",
    "\\end{cases}\n",
    "$$\n",
    "$$\n",
    "\\phi_7 (N_i) = \n",
    "\\begin{cases}\n",
    "1 & i=7 \\\\\n",
    "0 & i \\neq 7\n",
    "\\end{cases}\n",
    "$$\n",
    "$$\n",
    "\\phi_8(N_i) = \n",
    "\\begin{cases}\n",
    "1 & i=8 \\\\\n",
    "0 & i \\neq 8\n",
    "\\end{cases}\n",
    "$$\n",
    "\n",
    "We see then that: \n",
    "\n",
    "$\\int_\\Omega \\phi_1\\phi_2 = \\frac{2\\times 1! \\times 1!}{(1+1+2)!} \\times \\frac{1}{8} = \\frac{2}{4!} \\times \\frac{1}{8} = \\frac{2}{24}\\times \\frac{1}{8}= \\frac{1}{96}$\n",
    "\n",
    "$\\int_\\Omega \\phi_7\\phi_5 = \\frac{2\\times 1! \\times 1!}{(1+1+2)!} \\times \\frac{1}{8} = \\frac{2}{4!} \\times \\frac{1}{8} = \\frac{2}{24}\\times \\frac{1}{8}= \\frac{1}{96}$\n",
    "\n",
    "$\\int_\\Omega \\phi_7\\phi_8 = \\frac{2\\times 1! \\times 1!}{(1+1+2)!} \\times \\frac{1}{8} = \\frac{2}{4!} \\times \\frac{1}{8} = \\frac{2}{24}\\times \\frac{1}{8}= \\frac{1}{96}$\n",
    "\n",
    "$\\int_\\Omega x\\phi_1 = 0$ because where $\\phi_1 \\neq 0$, $x =0$ and where $x \\neq 0$, $\\phi_1 =0$"
   ]
  },
  {
   "cell_type": "markdown",
   "metadata": {},
   "source": [
    "**6** Let $I = [0,1]$ our region is a double integral over $x \\in I$ and $y\\in I$, that is: \n",
    "\n",
    "$$ \n",
    "\\begin{align*}\n",
    "\\iint_\\Omega xy \\quad dA &= \\int^1_0 \\int^1_0 xy \\quad dxdy \\\\\n",
    "&= \\int^1_0 [\\frac{x^2y}{2}]^1_0 dy = \\int^1_0 \\frac{y}{2} dy \\\\\n",
    "&= [\\frac{y^2}{4}]^1_0 = \\frac{1}{4} \n",
    "\\end{align*}\n",
    "$$ "
   ]
  },
  {
   "cell_type": "markdown",
   "metadata": {},
   "source": [
    "**7** Let's use NumPy:"
   ]
  },
  {
   "cell_type": "code",
   "execution_count": 8,
   "metadata": {},
   "outputs": [],
   "source": [
    "import numpy as np\n",
    "\n",
    "#Here is the points matrix\n",
    "P = np.array([[0, 0.5,1,0,0.5,1,0,0.5,1],[0,0,0,0.5,0.5,0.5,1,1,1]]) \n",
    "\n",
    "#Here is the connectivity matrix\n",
    "T = np.array([[1,1,2,2,4,4,5,5],[5,2,6,3,8,5,9,6],[4,5,5,6,7,8,8,9]]) - 1\n",
    "\n",
    "#Here is our function\n",
    "def f(x,y):\n",
    "    return x*y\n",
    "\n"
   ]
  },
  {
   "cell_type": "markdown",
   "metadata": {},
   "source": [
    "We then realize that the area of each triangle is $\\frac{1}{2}\\times \\frac{1}{2} \\times \\frac{1}{2} = \\frac{1}{8}$. Which would then give us:\n"
   ]
  },
  {
   "cell_type": "code",
   "execution_count": 10,
   "metadata": {},
   "outputs": [
    {
     "name": "stdout",
     "output_type": "stream",
     "text": [
      "0.24305555555555555\n"
     ]
    }
   ],
   "source": [
    "#Initialize volume to 0\n",
    "volume = 0\n",
    "\n",
    "# We then loop through the points matrix\n",
    "for i in range(8):\n",
    "   \n",
    "   #we pick points for the triangle based on the position on the connectivity matrix\n",
    "   triangle = P[:,T[:,i].transpose()]\n",
    "   \n",
    "   #we calculate volume vased on the midpoint formula and add to volume\n",
    "   volume = volume + f(triangle[0,:].mean(),triangle[1,:].mean())*(1/8)\n",
    "\n",
    "#we print volume\n",
    "\n",
    "print(volume)\n",
    "\n"
   ]
  },
  {
   "cell_type": "markdown",
   "metadata": {},
   "source": [
    "**8** Once again we use NumPy:"
   ]
  },
  {
   "cell_type": "code",
   "execution_count": 36,
   "metadata": {},
   "outputs": [
    {
     "name": "stdout",
     "output_type": "stream",
     "text": [
      "0.27083333333333326\n"
     ]
    }
   ],
   "source": [
    "#We again initialize volume to be 0\n",
    "volume = 0\n",
    "\n",
    "#we loop through the points matrix\n",
    "for i in range(8):\n",
    "   \n",
    "   #we pick points for the triangle based on the position on the connectivity matrix\n",
    "   triangle = P[:,T[:,i].transpose()]\n",
    "   \n",
    "   #we calculate volume using corner method and add to volume\n",
    "   volume = volume + (f(triangle.item(0,0),triangle.item(1,0))+f(triangle.item(0,1),triangle.item(1,1))\n",
    "                      +f(triangle.item(0,2),triangle.item(1,2)))*(1/24)\n",
    "\n",
    "#we print volume\n",
    "print(volume)\n",
    "\n"
   ]
  }
 ],
 "metadata": {
  "interpreter": {
   "hash": "ff7f8f0f74699c41e73abb218329a1b28bbe0c581c14d6da0a735477b99dd2f4"
  },
  "kernelspec": {
   "display_name": "Python 3.8.12 ('csce5063')",
   "language": "python",
   "name": "python3"
  },
  "language_info": {
   "codemirror_mode": {
    "name": "ipython",
    "version": 3
   },
   "file_extension": ".py",
   "mimetype": "text/x-python",
   "name": "python",
   "nbconvert_exporter": "python",
   "pygments_lexer": "ipython3",
   "version": "3.8.12"
  },
  "orig_nbformat": 4
 },
 "nbformat": 4,
 "nbformat_minor": 2
}
