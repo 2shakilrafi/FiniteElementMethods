{
 "cells": [
  {
   "cell_type": "markdown",
   "metadata": {},
   "source": [
    "# Finite Element Methods HW 2"
   ]
  },
  {
   "cell_type": "markdown",
   "metadata": {},
   "source": [
    "**1** The point matrix is: $$P =\\begin{pmatrix} 0 &0.5 &1 &0 &0.5 &1 &0 &0.5 &1 \\\\ 0 &0 &0 &0.5 &0.5 &0.5 &1 &1 &1 \\end{pmatrix}$$"
   ]
  },
  {
   "cell_type": "markdown",
   "metadata": {},
   "source": [
    "Whereas the connectivity matrix is:\n",
    "\n",
    "$$T = \\begin{pmatrix} 1 &1 &2 &2 &4 &4 &5 &5 \\\\ 5 &2 &6 &3 &8 &5 &9 &6\\\\ 4 &5 &5 &6 &7 &8 &8 &9 \\end{pmatrix}$$"
   ]
  },
  {
   "cell_type": "markdown",
   "metadata": {},
   "source": [
    "**2** Let $h:N_\\mathbb{Z} \\rightarrow \\mathbb{R}$.\n",
    "\n",
    "$$\n",
    "h(N_a,N_b) = \\begin{cases}\n",
    "\\sqrt{0.5} & a = 1,b=5 \\\\\n",
    "\\sqrt{0.5} & a=2,b=6 \\\\\n",
    "\\sqrt{0.5} & a=4, b=8 \\\\\n",
    "\\sqrt{0.5} & a = 5, b=9 \n",
    "\\end{cases}\n",
    "$$\n"
   ]
  },
  {
   "cell_type": "markdown",
   "metadata": {},
   "source": [
    "**4** "
   ]
  },
  {
   "cell_type": "markdown",
   "metadata": {},
   "source": [
    "**5** Observe that:\n",
    "$$\n",
    "\\phi_1 (N_i) = \n",
    "\\begin{cases}\n",
    "1 & i=1 \\\\\n",
    "0 & i \\neq 1\n",
    "\\end{cases}\n",
    "$$\n",
    "\n",
    "$$\n",
    "\\phi_2 (N_i) = \n",
    "\\begin{cases}\n",
    "1 & i=2 \\\\\n",
    "0 & i \\neq 2\n",
    "\\end{cases}\n",
    "$$\n",
    "$$\n",
    "\\phi_5 (N_i) = \n",
    "\\begin{cases}\n",
    "1 & i=5 \\\\\n",
    "0 & i \\neq 5\n",
    "\\end{cases}\n",
    "$$\n",
    "$$\n",
    "\\phi_7 (N_i) = \n",
    "\\begin{cases}\n",
    "1 & i=7 \\\\\n",
    "0 & i \\neq 7\n",
    "\\end{cases}\n",
    "$$\n",
    "$$\n",
    "\\phi_8(N_i) = \n",
    "\\begin{cases}\n",
    "1 & i=8 \\\\\n",
    "0 & i \\neq 8\n",
    "\\end{cases}\n",
    "$$\n",
    "\n",
    "We see then that: \n",
    "\n",
    "$\\int_\\Omega \\phi_1\\phi_2 = \\frac{2\\times 1! \\times 1!}{(1+1+2)!} \\times \\frac{1}{8} = \\frac{2}{4!} \\times \\frac{1}{8} = \\frac{2}{24}\\times \\frac{1}{8}= \\frac{1}{96}$\n",
    "\n",
    "$\\int_\\Omega \\phi_7\\phi_5 = \\frac{2\\times 1! \\times 1!}{(1+1+2)!} \\times \\frac{1}{8} = \\frac{2}{4!} \\times \\frac{1}{8} = \\frac{2}{24}\\times \\frac{1}{8}= \\frac{1}{96}$\n",
    "\n",
    "$\\int_\\Omega \\phi_7\\phi_8 = \\frac{2\\times 1! \\times 1!}{(1+1+2)!} \\times \\frac{1}{8} = \\frac{2}{4!} \\times \\frac{1}{8} = \\frac{2}{24}\\times \\frac{1}{8}= \\frac{1}{96}$\n",
    "\n",
    "$\\int_\\Omega x\\phi_1 = 0$ because where $\\phi_1 \\neq 0$, $x =0$ and where $x \\neq 0$, $\\phi_1 =0$"
   ]
  },
  {
   "cell_type": "markdown",
   "metadata": {},
   "source": [
    "**6** Let $I = [0,1]$ our region is a double integral over $x \\in I$ and $y\\in I$, that is: \n",
    "\n",
    "$$ \n",
    "\\begin{align*}\n",
    "\\iint_\\Omega xy \\quad dA &= \\int^1_0 \\int^1_0 xy \\quad dxdy \\\\\n",
    "&= \\int^1_0 [\\frac{x^2y}{2}]^1_0 dy = \\int^1_0 \\frac{y}{2} dy \\\\\n",
    "&= [\\frac{y^2}{4}]^1_0 = \\frac{1}{4} \n",
    "\\end{align*}\n",
    "$$ "
   ]
  },
  {
   "cell_type": "markdown",
   "metadata": {},
   "source": [
    "**7** Let's use NumPy:"
   ]
  },
  {
   "cell_type": "code",
   "execution_count": 20,
   "metadata": {},
   "outputs": [],
   "source": [
    "import numpy as np\n",
    "\n",
    "P = np.array([[0, 0.5,1,0,0.5,1,0,0.5,1],[0,0,0,0.5,0.5,0.5,1,1,1]])\n",
    "T = np.array([[1,1,2,2,4,4,5,5],[5,2,6,3,8,5,9,6],[4,5,5,6,7,8,8,9]]) - 1\n",
    "\n",
    "def f(x,y):\n",
    "    return x*y\n",
    "\n"
   ]
  },
  {
   "cell_type": "markdown",
   "metadata": {},
   "source": [
    "Now we realize that the area of each triangle is $\\frac{1}{2}\\times \\frac{1}{2} \\times \\frac{1}{2} = \\frac{1}{8}$. Which then give us:\n"
   ]
  },
  {
   "cell_type": "code",
   "execution_count": 21,
   "metadata": {},
   "outputs": [
    {
     "name": "stdout",
     "output_type": "stream",
     "text": [
      "0.24305555555555555\n"
     ]
    }
   ],
   "source": [
    "volume = 0\n",
    "for i in range(8):\n",
    "   triangle = P[:,T[:,i].transpose()]\n",
    "   volume = volume + f(triangle[0,:].mean(),triangle[1,:].mean())*(1/8)\n",
    "print(volume)\n",
    "\n"
   ]
  },
  {
   "cell_type": "markdown",
   "metadata": {},
   "source": [
    "**8** Once again we use NumPy:"
   ]
  },
  {
   "cell_type": "code",
   "execution_count": 36,
   "metadata": {},
   "outputs": [
    {
     "name": "stdout",
     "output_type": "stream",
     "text": [
      "0.27083333333333326\n"
     ]
    }
   ],
   "source": [
    "volume = 0\n",
    "for i in range(8):\n",
    "   triangle = P[:,T[:,i].transpose()]\n",
    "   volume = volume + (f(triangle.item(0,0),triangle.item(1,0))+f(triangle.item(0,1),triangle.item(1,1))+f(triangle.item(0,2),triangle.item(1,2)))*(1/24)\n",
    "print(volume)\n",
    "\n"
   ]
  },
  {
   "cell_type": "code",
   "execution_count": null,
   "metadata": {},
   "outputs": [],
   "source": []
  }
 ],
 "metadata": {
  "interpreter": {
   "hash": "ff7f8f0f74699c41e73abb218329a1b28bbe0c581c14d6da0a735477b99dd2f4"
  },
  "kernelspec": {
   "display_name": "Python 3.8.12 ('csce5063')",
   "language": "python",
   "name": "python3"
  },
  "language_info": {
   "codemirror_mode": {
    "name": "ipython",
    "version": 3
   },
   "file_extension": ".py",
   "mimetype": "text/x-python",
   "name": "python",
   "nbconvert_exporter": "python",
   "pygments_lexer": "ipython3",
   "version": "3.8.12"
  },
  "orig_nbformat": 4
 },
 "nbformat": 4,
 "nbformat_minor": 2
}
