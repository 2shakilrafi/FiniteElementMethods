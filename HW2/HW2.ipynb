{
 "cells": [
  {
   "cell_type": "markdown",
   "metadata": {},
   "source": [
    "# Finite Element Methods HW 2"
   ]
  },
  {
   "cell_type": "markdown",
   "metadata": {},
   "source": [
    "**1** The point matrix is: $$P =\\begin{pmatrix} 0 &0.5 &1 &0 &0.5 &1 &0 &0.5 &1 \\\\ 0 &0 &0 &0.5 &0.5 &0.5 &1 &1 &1 \\end{pmatrix}$$"
   ]
  },
  {
   "cell_type": "markdown",
   "metadata": {},
   "source": [
    "Whereas the connectivity matrix is:\n",
    "\n",
    "$$T = \\begin{pmatrix} 1 &1 &2 &2 &4 &4 &5 &5 \\\\ 5 &2 &6 &3 &8 &5 &9 &6\\\\ 4 &5 &5 &6 &7 &8 &8 &9 \\end{pmatrix}$$"
   ]
  },
  {
   "cell_type": "markdown",
   "metadata": {},
   "source": [
    "**6** Let $I = [0,1]$ our region is a double integral over $x \\in I$ and $y\\in I$, that is: \n",
    "\n",
    "$$ \n",
    "\\begin{align*}\n",
    "\\iint_\\Omega xy \\quad dA &= \\int^1_0 \\int^1_0 xy \\quad dxdy \\\\\n",
    "&= \\int^1_0 [\\frac{x^2y}{2}]^1_0 dy = \\int^1_0 \\frac{y}{2} dy \\\\\n",
    "&= [\\frac{y^2}{4}]^1_0 = \\frac{1}{4} \n",
    "\\end{align*}\n",
    "$$ "
   ]
  },
  {
   "cell_type": "markdown",
   "metadata": {},
   "source": [
    "**7** Let's use NumPy:"
   ]
  },
  {
   "cell_type": "code",
   "execution_count": 53,
   "metadata": {},
   "outputs": [],
   "source": [
    "P = np.matrix([[0, 0.5,1,0,0.5,1,0,0.5,1],[0,0,0,0.5,0.5,0.5,1,1,1]])\n",
    "T = np.matrix([[1,1,2,2,4,4,5,5],[5,2,6,3,8,5,9,6],[4,5,5,6,7,8,8,9]]) - 1\n",
    "\n",
    "def f(x,y):\n",
    "    return x*y\n",
    "\n"
   ]
  },
  {
   "cell_type": "markdown",
   "metadata": {},
   "source": [
    "Now we realize that the area of each triangle is $\\frac{1}{2}\\times \\frac{1}{2} \\times \\frac{1}{2} = \\frac{1}{8}$. Which then give us:\n"
   ]
  },
  {
   "cell_type": "code",
   "execution_count": 65,
   "metadata": {},
   "outputs": [
    {
     "name": "stdout",
     "output_type": "stream",
     "text": [
      "0.24305555555555555\n"
     ]
    }
   ],
   "source": [
    "volume = 0\n",
    "for i in range(8):\n",
    "   triangle = P[:,T[:,i].transpose()]\n",
    "   volume = volume + f(triangle[0,:].mean(),triangle[1,:].mean())*(1/8)\n",
    "print(volume)\n",
    "\n"
   ]
  },
  {
   "cell_type": "markdown",
   "metadata": {},
   "source": [
    "**8** Once again we use numpy"
   ]
  },
  {
   "cell_type": "code",
   "execution_count": null,
   "metadata": {},
   "outputs": [],
   "source": []
  }
 ],
 "metadata": {
  "interpreter": {
   "hash": "ff7f8f0f74699c41e73abb218329a1b28bbe0c581c14d6da0a735477b99dd2f4"
  },
  "kernelspec": {
   "display_name": "Python 3.8.12 ('csce5063')",
   "language": "python",
   "name": "python3"
  },
  "language_info": {
   "codemirror_mode": {
    "name": "ipython",
    "version": 3
   },
   "file_extension": ".py",
   "mimetype": "text/x-python",
   "name": "python",
   "nbconvert_exporter": "python",
   "pygments_lexer": "ipython3",
   "version": "3.8.12"
  },
  "orig_nbformat": 4
 },
 "nbformat": 4,
 "nbformat_minor": 2
}
