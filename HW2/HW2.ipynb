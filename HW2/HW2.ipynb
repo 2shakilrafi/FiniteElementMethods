{
 "cells": [
  {
   "cell_type": "markdown",
   "metadata": {},
   "source": [
    "# Finite Element Methods HW 2"
   ]
  },
  {
   "cell_type": "markdown",
   "metadata": {},
   "source": [
    "**1** The point matrix is: $$P =\\begin{pmatrix} 0 &1 &2 &0 &1 &2 &0 &1 &2 \\\\ 0 &0 &0 &1 &1 &1 &2 &2 &2 \\end{pmatrix}$$"
   ]
  },
  {
   "cell_type": "markdown",
   "metadata": {},
   "source": [
    "Whereas the connectivity matrix is:\n",
    "\n",
    "$$T = \\begin{pmatrix} 1 &1 &2 &2 &4 &4 &5 &5 \\\\ 5 &2 &6 &3 &8 &5 &9 &6\\\\ 4 &5 &5 &6 &7 &8 &8 &9 \\end{pmatrix}$$"
   ]
  },
  {
   "cell_type": "markdown",
   "metadata": {},
   "source": []
  }
 ],
 "metadata": {
  "interpreter": {
   "hash": "ff7f8f0f74699c41e73abb218329a1b28bbe0c581c14d6da0a735477b99dd2f4"
  },
  "kernelspec": {
   "display_name": "Python 3.8.12 ('csce5063')",
   "language": "python",
   "name": "python3"
  },
  "language_info": {
   "name": "python",
   "version": "3.8.12"
  },
  "orig_nbformat": 4
 },
 "nbformat": 4,
 "nbformat_minor": 2
}
