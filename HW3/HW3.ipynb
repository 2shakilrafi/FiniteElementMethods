{
 "cells": [
  {
   "cell_type": "markdown",
   "metadata": {},
   "source": [
    "# Finite Element Methods: HW 3"
   ]
  },
  {
   "cell_type": "markdown",
   "metadata": {},
   "source": [
    "**Answer 1** From definitions we know that $-\\Delta u = - \\nabla^2 u = -(\\frac{\\partial^2}{\\partial x_1^2} + \\frac{\\partial^2}{\\partial x_2^2}) = -\\frac{\\partial^2}{\\partial x_1^2} - \\frac{\\partial^2}{\\partial x_2^2} $, and so we get:\n",
    "\n",
    "$\\begin{align*}\n",
    "u &= x_1x_2-x_1x_2^2-x_1^2x_2+x_1^2x_2^2 \\\\\n",
    "\\frac{\\partial u}{\\partial x_1} &= x_2-x_2^2-2x_1x_2+2x_1x_2^2 \\\\\n",
    "\\frac{\\partial^2 u}{\\partial x_1^2} &= -2x_2+2x_2^2\n",
    "\\end{align*}$\n",
    "\n",
    "And by symmetry $\\begin{align*}\n",
    "    \\frac{\\partial^2}{\\partial x_2^2} = -2x_1+2x_1^2\n",
    "    \\end{align*}$\n",
    "\n",
    "Thus $\\begin{align}-\\Delta u = -(-2x_2+2x_2^2)-(-2x_1+2x_1^2) \n",
    "\\end{align}$\n",
    "\n",
    "\n"
   ]
  },
  {
   "cell_type": "markdown",
   "metadata": {},
   "source": [
    "Againg the output of $\\nabla u$ is a vector $\\begin{pmatrix} \\frac{\\partial}{\\partial x_1} \\\\ \\frac{\\partial}{\\partial x_2} \\end{pmatrix}$ and following from definitions:\n",
    "\n",
    "$\\begin{align}\n",
    "\\nabla u = \\begin{pmatrix}\n",
    "    x_2-x_2^2-2x_1x_2+2x_1x_2^2 \\\\\n",
    "    x_1-x_1^2-2x_2x_1+2x_2x_1^2\n",
    "\\end{pmatrix}\n",
    "\\end{align}$"
   ]
  },
  {
   "cell_type": "markdown",
   "metadata": {},
   "source": [
    "Similarly following from definitions we have that:\n",
    "$\\begin{align*}\n",
    "D^2u &= -2x_2+2x_2^2 -2x_1+2x_1^2\n",
    "\\end{align*}$"
   ]
  },
  {
   "cell_type": "markdown",
   "metadata": {},
   "source": [
    "For this we use SymPy, but we simplify a bit further:\n",
    "$\\begin{align*}\n",
    "||u||_{L^2(\\Omega)} &= \\bigg(\\int_\\Omega u^2 d\\Omega \\bigg)^{\\frac{1}{2}} \\\\\n",
    "&= \\bigg(\\int^1_0 \\int^1_2 u^2 dx_1dx_2 \\bigg)^{\\frac{1}{2}} \\\\\n",
    "&= \\bigg(\\int^1_0 \\int^1_2 (x_1-x_1^2)^2(x_2-x_2^2)^2 dx_1dx_2 \\bigg)^{\\frac{1}{2}}\n",
    "\\end{align*} $"
   ]
  },
  {
   "cell_type": "code",
   "execution_count": 9,
   "metadata": {},
   "outputs": [
    {
     "data": {
      "image/png": "[encoded data removed]",
      "text/latex": [
       "$\\displaystyle \\frac{1}{30}$"
      ],
      "text/plain": [
       "1/30"
      ]
     },
     "execution_count": 9,
     "metadata": {},
     "output_type": "execute_result"
    }
   ],
   "source": [
    "from sympy import *\n",
    "import math\n",
    "\n",
    "init_printing(use_unicode=False, wrap_line=False)\n",
    "x = Symbol('x')\n",
    "y = Symbol('y')\n",
    "\n",
    "sqrt(integrate((x-x**2)**2*(y-y**2)**2,(x,0,1),(y,0,1)))\n"
   ]
  },
  {
   "cell_type": "markdown",
   "metadata": {},
   "source": [
    "Finally since $\\nabla u$ is a vector we interpret as:\n",
    "$\\begin{align*}\n",
    "    ||u||_{l^2} = \\sqrt{(x_2-x_2^2-2x_1x_2+2x_1x_2^2)^2+(x_1-x_1^2-2x_2x_1+2x_2x_1^2)^2} \n",
    "\\end{align*}$"
   ]
  },
  {
   "cell_type": "markdown",
   "metadata": {},
   "source": [
    "**Answer 2**"
   ]
  },
  {
   "cell_type": "markdown",
   "metadata": {},
   "source": [
    "We will use techniques from Lecture-4. We realize that in our case $|\\overline{K}| = \\frac{1}{2}$, and using the identity $\\int_K\\phi_1^m\\phi_2^n\\phi_3^p = \\frac{2m!n!p!}{(m+n+p+2)!}|\\overline{K}|$\n",
    "Since our domain is only a triangle we expect a $3 \\times 3$ matrix, which then gives us:\n",
    "$\\begin{pmatrix} \\phi_1\\phi_1 & \\phi_1\\phi_2 & \\phi_1\\phi_3 \\\\\n",
    "\\phi_2\\phi_1 & \\phi_2\\phi_2 & \\phi_2\\phi_3 \\\\\n",
    "\\phi_3\\phi_1 & \\phi_3\\phi_2 & \\phi_3\\phi_3 \\\\\n",
    "\\end{pmatrix}$\n",
    "\n",
    "$\\begin{align*}\n",
    "M^{\\overline{K}} = \\frac{1}{12} \\begin{pmatrix} 2 & 1 & 1\\\\\n",
    "1 & 2 & 1 \\\\\n",
    "1 & 1 & 2\n",
    "\\end{pmatrix}\\frac{1}{2}\n",
    "\\end{align*}$"
   ]
  },
  {
   "cell_type": "markdown",
   "metadata": {},
   "source": [
    "First we notice that our triangle has nodes $N_1=(0,0),N_2=(1,0),N_3=(0,1)$, however $a=1$. We have already observed that $|\\overline{K}|=\\frac{1}{2}$. Thus by plugging in we see that $b_1 = -1, c_1 = -1,b_2 = 1,c_2 = 0, b_3 = 0, c_3 = 1$. This means that the stiffnmess matrix is:\n",
    "\n",
    "$A^{\\overline{K}}=\\begin{pmatrix}\n",
    "1 & -1 & -1 \\\\\n",
    "-1 & 1 & 0 \\\\\n",
    "-1 & 0 & 1\n",
    "\\end{pmatrix} \\times \\frac{1}{2}$\n"
   ]
  },
  {
   "cell_type": "markdown",
   "metadata": {},
   "source": []
  }
 ],
 "metadata": {
  "interpreter": {
   "hash": "a7b5a1112396ad393f5588006c146c6954be07cba002f50e558ad6b83bb9990c"
  },
  "kernelspec": {
   "display_name": "Python 3.9.7 ('base')",
   "language": "python",
   "name": "python3"
  },
  "language_info": {
   "codemirror_mode": {
    "name": "ipython",
    "version": 3
   },
   "file_extension": ".py",
   "mimetype": "text/x-python",
   "name": "python",
   "nbconvert_exporter": "python",
   "pygments_lexer": "ipython3",
   "version": "3.9.7"
  },
  "orig_nbformat": 4
 },
 "nbformat": 4,
 "nbformat_minor": 2
}
