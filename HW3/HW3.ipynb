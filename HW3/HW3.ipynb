{
 "cells": [
  {
   "cell_type": "markdown",
   "metadata": {},
   "source": [
    "# Finite Element Methods: HW 3"
   ]
  },
  {
   "cell_type": "markdown",
   "metadata": {},
   "source": [
    "**Answer 1** From definitions we know that $-\\Delta u = - \\nabla^2 u = -(\\frac{\\partial^2}{\\partial x_1^2} + \\frac{\\partial^2}{\\partial x_2^2}) = -\\frac{\\partial^2}{\\partial x_1^2} - \\frac{\\partial^2}{\\partial x_2^2} $, and so we get:\n",
    "\n",
    "$\\begin{align*}\n",
    "u &= x_1x_2-x_1x_2^2-x_1^2x_2+x_1^2x_2^2 \\\\\n",
    "\\frac{\\partial u}{\\partial x_1} &= x_2-x_2^2-2x_1x_2+2x_1x_2^2 \\\\\n",
    "\\frac{\\partial^2 u}{\\partial x_1^2} &= -2x_2+2x_2^2\n",
    "\\end{align*}$\n",
    "\n",
    "And by symmetry $\\begin{align*}\n",
    "    \\frac{\\partial^2}{\\partial x_2^2} = -2x_1+2x_1^2\n",
    "    \\end{align*}$\n",
    "\n",
    "Thus $\\begin{align}-\\Delta u = -(2x_2+2x_2^2)-(-2x_1+2x_1^2) \n",
    "\\end{align}$\n",
    "\n",
    "\n"
   ]
  },
  {
   "cell_type": "markdown",
   "metadata": {},
   "source": [
    "Againg the output of $\\nabla u$ is a vector $\\begin{pmatrix} \\frac{\\partial}{\\partial x_1} \\\\ \\frac{\\partial}{\\partial x_2} \\end{pmatrix}$ and following from definitions:\n",
    "\n",
    "$\\begin{align}\n",
    "\\nabla u = \\begin{pmatrix}\n",
    "    x_2-x_2^2-2x_1x_2+2x_1x_2^2 \\\\\n",
    "    x_1-x_1^2-2x_2x_1+2x_2x_1^2\n",
    "\\end{pmatrix}\n",
    "\\end{align}$"
   ]
  },
  {
   "cell_type": "markdown",
   "metadata": {},
   "source": [
    "For this we use SymPy, but we simplify a bit further:\n",
    "$\\begin{align*}\n",
    "||u||_{L^2(\\Omega)} &= \\int_\\Omega u^2 d\\Omega \\\\\n",
    "&= \\int^1_0 \\int^1_2 u^2 dx_1dx_2 \\\\\n",
    "&= \\int^1_0 \\int^1_2 (x_1-x_1^2)^2(x_2-x_2^2)^2 dx_1dx_2\n",
    "\\end{align*} $"
   ]
  },
  {
   "cell_type": "code",
   "execution_count": 3,
   "metadata": {},
   "outputs": [
    {
     "name": "stderr",
     "output_type": "stream",
     "text": [
      "<>:5: SyntaxWarning: 'int' object is not callable; perhaps you missed a comma?\n",
      "<>:5: SyntaxWarning: 'int' object is not callable; perhaps you missed a comma?\n",
      "/var/folders/zc/cc95gj757jqdfmtj7lsf19j00000gn/T/ipykernel_42488/2368297137.py:5: SyntaxWarning: 'int' object is not callable; perhaps you missed a comma?\n",
      "  sp.integrate((x-x^2)^2(y-y^2)^2,(x,0,1),(y,0,1))\n"
     ]
    },
    {
     "ename": "TypeError",
     "evalue": "'int' object is not callable",
     "output_type": "error",
     "traceback": [
      "\u001b[0;31m---------------------------------------------------------------------------\u001b[0m",
      "\u001b[0;31mTypeError\u001b[0m                                 Traceback (most recent call last)",
      "\u001b[0;32m/var/folders/zc/cc95gj757jqdfmtj7lsf19j00000gn/T/ipykernel_42488/2368297137.py\u001b[0m in \u001b[0;36m<module>\u001b[0;34m\u001b[0m\n\u001b[1;32m      3\u001b[0m \u001b[0mx\u001b[0m\u001b[0;34m,\u001b[0m \u001b[0my\u001b[0m \u001b[0;34m=\u001b[0m \u001b[0msymbols\u001b[0m\u001b[0;34m(\u001b[0m\u001b[0;34m'x y'\u001b[0m\u001b[0;34m)\u001b[0m\u001b[0;34m\u001b[0m\u001b[0;34m\u001b[0m\u001b[0m\n\u001b[1;32m      4\u001b[0m \u001b[0;34m\u001b[0m\u001b[0m\n\u001b[0;32m----> 5\u001b[0;31m \u001b[0msp\u001b[0m\u001b[0;34m.\u001b[0m\u001b[0mintegrate\u001b[0m\u001b[0;34m(\u001b[0m\u001b[0;34m(\u001b[0m\u001b[0mx\u001b[0m\u001b[0;34m-\u001b[0m\u001b[0mx\u001b[0m\u001b[0;34m^\u001b[0m\u001b[0;36m2\u001b[0m\u001b[0;34m)\u001b[0m\u001b[0;34m^\u001b[0m\u001b[0;36m2\u001b[0m\u001b[0;34m(\u001b[0m\u001b[0my\u001b[0m\u001b[0;34m-\u001b[0m\u001b[0my\u001b[0m\u001b[0;34m^\u001b[0m\u001b[0;36m2\u001b[0m\u001b[0;34m)\u001b[0m\u001b[0;34m^\u001b[0m\u001b[0;36m2\u001b[0m\u001b[0;34m,\u001b[0m\u001b[0;34m(\u001b[0m\u001b[0mx\u001b[0m\u001b[0;34m,\u001b[0m\u001b[0;36m0\u001b[0m\u001b[0;34m,\u001b[0m\u001b[0;36m1\u001b[0m\u001b[0;34m)\u001b[0m\u001b[0;34m,\u001b[0m\u001b[0;34m(\u001b[0m\u001b[0my\u001b[0m\u001b[0;34m,\u001b[0m\u001b[0;36m0\u001b[0m\u001b[0;34m,\u001b[0m\u001b[0;36m1\u001b[0m\u001b[0;34m)\u001b[0m\u001b[0;34m)\u001b[0m\u001b[0;34m\u001b[0m\u001b[0;34m\u001b[0m\u001b[0m\n\u001b[0m",
      "\u001b[0;31mTypeError\u001b[0m: 'int' object is not callable"
     ]
    }
   ],
   "source": [
    "import sympy as sp\n",
    "init_printing(use_unicode=False, wrap_line=False)\n",
    "x, y = symbols('x y')\n",
    "\n",
    "sp.integrate((x-x^2)^2(y-y^2)^2,(x,0,1),(y,0,1))\n"
   ]
  },
  {
   "cell_type": "code",
   "execution_count": null,
   "metadata": {},
   "outputs": [],
   "source": []
  }
 ],
 "metadata": {
  "interpreter": {
   "hash": "a7b5a1112396ad393f5588006c146c6954be07cba002f50e558ad6b83bb9990c"
  },
  "kernelspec": {
   "display_name": "Python 3.9.7 ('base')",
   "language": "python",
   "name": "python3"
  },
  "language_info": {
   "codemirror_mode": {
    "name": "ipython",
    "version": 3
   },
   "file_extension": ".py",
   "mimetype": "text/x-python",
   "name": "python",
   "nbconvert_exporter": "python",
   "pygments_lexer": "ipython3",
   "version": "3.9.7"
  },
  "orig_nbformat": 4
 },
 "nbformat": 4,
 "nbformat_minor": 2
}
