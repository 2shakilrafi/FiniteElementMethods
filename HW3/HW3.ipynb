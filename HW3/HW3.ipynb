{
 "cells": [
  {
   "cell_type": "markdown",
   "metadata": {},
   "source": [
    "# Finite Element Methods: HW 3"
   ]
  },
  {
   "cell_type": "markdown",
   "metadata": {},
   "source": [
    "**Answer 1** From definitions we know that $-\\Delta u = - \\nabla^2 u = -(\\frac{\\partial^2}{\\partial x_1^2} + \\frac{\\partial^2}{\\partial x_2^2}) = -\\frac{\\partial^2}{\\partial x_1^2} - \\frac{\\partial^2}{\\partial x_2^2} $, and so we get:\n",
    "\n",
    "$\\begin{align*}\n",
    "u &= x_1x_2-x_1x_2^2-x_1^2x_2+x_1^2x_2^2 \\\\\n",
    "\\frac{\\partial u}{\\partial x_1} &= x_2-x_2^2-2x_1x_2+2x_1x_2^2 \\\\\n",
    "\\frac{\\partial^2 u}{\\partial x_1^2} &= -2x_2+2x_2^2\n",
    "\\end{align*}$\n",
    "\n",
    "And by symmetry \n",
    "$\\begin{align*}\n",
    "\\frac{\\partial^2}{\\partial x_2^2} = -2x_1+2x_1^2\n",
    "\\end{align*}$\n",
    "\n",
    "Thus \n",
    "$\\begin{align*}-\\Delta u =f= -(-2x_2+2x_2^2)-(-2x_1+2x_1^2) \n",
    "\\end{align*}$\n",
    "\n",
    "\n"
   ]
  },
  {
   "cell_type": "markdown",
   "metadata": {},
   "source": [
    "Again starting from definitions, we see that $\\nabla u$ is:\n",
    "\\begin{align*}\n",
    "x_2-x_2^2-2x_1x_2+2x_1x_2^2+x_1-x_1^2-2x_1x_2+2x_2x_1^2\n",
    "\\end{align*}"
   ]
  },
  {
   "cell_type": "markdown",
   "metadata": {},
   "source": [
    "Similarly following from definitions we have that $D^2f$ is:\n"
   ]
  },
  {
   "cell_type": "code",
   "execution_count": 4,
   "metadata": {},
   "outputs": [
    {
     "data": {
      "image/png": "[encoded data removed]",
      "text/latex": [
       "$\\displaystyle \\sqrt{4 \\left|{x \\left(x - 1\\right)}\\right|^{2} + 4 \\left|{y \\left(y - 1\\right)}\\right|^{2} + 2 \\left|{4 x y - 2 x - 2 y + 1}\\right|^{2}}$"
      ],
      "text/plain": [
       "   ______________________________________________________________\n",
       "  /              2                2                            2 \n",
       "\\/  4*|x*(x - 1)|  + 4*|y*(y - 1)|  + 2*|4*x*y - 2*x - 2*y + 1|  "
      ]
     },
     "execution_count": 4,
     "metadata": {},
     "output_type": "execute_result"
    }
   ],
   "source": [
    "from sympy import *\n",
    "import math\n",
    "\n",
    "init_printing(use_unicode=False, wrap_line=False)\n",
    "x = Symbol('x')\n",
    "y = Symbol('y')\n",
    "\n",
    "u = x*y - x*y**2-x**2*y+x**2*y**2\n",
    "\n",
    "D_squared_f = sqrt(abs(diff(u,x,2))**2+2*abs(diff(u,x,y))**2+abs(diff(u,y,y))**2)\n",
    "D_squared_f\n",
    "\n",
    "\n"
   ]
  },
  {
   "cell_type": "markdown",
   "metadata": {},
   "source": [
    "For this we use SymPy, but we simplify a bit further:\n",
    "$\\begin{align*}\n",
    "||u||_{L^2(\\Omega)} &= \\bigg(\\int_\\Omega u^2 d\\Omega \\bigg)^{\\frac{1}{2}} \\\\\n",
    "&= \\bigg(\\int^1_0 \\int^1_2 u^2 dx_1dx_2 \\bigg)^{\\frac{1}{2}} \\\\\n",
    "&= \\bigg(\\int^1_0 \\int^1_2 (x_1-x_1^2)^2(x_2-x_2^2)^2 dx_1dx_2 \\bigg)^{\\frac{1}{2}}\n",
    "\\end{align*} $"
   ]
  },
  {
   "cell_type": "code",
   "execution_count": 5,
   "metadata": {},
   "outputs": [
    {
     "data": {
      "image/png": "[encoded data removed]",
      "text/latex": [
       "$\\displaystyle \\frac{1}{30}$"
      ],
      "text/plain": [
       "1/30"
      ]
     },
     "execution_count": 5,
     "metadata": {},
     "output_type": "execute_result"
    }
   ],
   "source": [
    "sqrt(integrate(abs(u)**2,(x,0,1),(y,0,1)))\n"
   ]
  },
  {
   "cell_type": "markdown",
   "metadata": {},
   "source": [
    "Finally for $||\\nabla u||_{L^2(\\Omega)}$ we have:\n",
    "\n"
   ]
  },
  {
   "cell_type": "code",
   "execution_count": 6,
   "metadata": {},
   "outputs": [
    {
     "data": {
      "image/png": "[encoded data removed]",
      "text/latex": [
       "$\\displaystyle \\frac{\\sqrt{5}}{15}$"
      ],
      "text/plain": [
       "  ___\n",
       "\\/ 5 \n",
       "-----\n",
       "  15 "
      ]
     },
     "execution_count": 6,
     "metadata": {},
     "output_type": "execute_result"
    }
   ],
   "source": [
    "nabla_u = diff(u,x) + diff(u,y)\n",
    "nabla_u\n",
    "sqrt(integrate(abs(nabla_u)**2,(x,0,1),(y,0,1)))"
   ]
  },
  {
   "cell_type": "markdown",
   "metadata": {},
   "source": [
    "**Answer 2**"
   ]
  },
  {
   "cell_type": "markdown",
   "metadata": {},
   "source": [
    "We will use techniques from Lecture-4. We realize that in our case $|\\overline{K}| = \\frac{1}{2}$, and using the identity $\\int_K\\phi_1^m\\phi_2^n\\phi_3^p = \\frac{2m!n!p!}{(m+n+p+2)!}|\\overline{K}|$\n",
    "Since our domain is only a triangle we expect a $3 \\times 3$ matrix, which then gives us:\n",
    "$\\begin{pmatrix} \\phi_1\\phi_1 & \\phi_1\\phi_2 & \\phi_1\\phi_3 \\\\\n",
    "\\phi_2\\phi_1 & \\phi_2\\phi_2 & \\phi_2\\phi_3 \\\\\n",
    "\\phi_3\\phi_1 & \\phi_3\\phi_2 & \\phi_3\\phi_3 \\\\\n",
    "\\end{pmatrix}$\n",
    "\n",
    "$\\begin{align*}\n",
    "M^{\\overline{K}} = \\frac{1}{12} \\begin{pmatrix} 2 & 1 & 1\\\\\n",
    "1 & 2 & 1 \\\\\n",
    "1 & 1 & 2\n",
    "\\end{pmatrix}\\frac{1}{2}\n",
    "\\end{align*}$"
   ]
  },
  {
   "cell_type": "markdown",
   "metadata": {},
   "source": [
    "First we notice that our triangle has nodes $N_1=(0,0),N_2=(1,0),N_3=(0,1)$, however $a=1$. We have already observed that $|\\overline{K}|=\\frac{1}{2}$. Thus by plugging in we see that $b_1 = -1, c_1 = -1,b_2 = 1,c_2 = 0, b_3 = 0, c_3 = 1$. This means that the stiffnmess matrix is:\n",
    "\n",
    "$A^{\\overline{K}}=\\begin{pmatrix}\n",
    "1 & -1 & -1 \\\\\n",
    "-1 & 1 & 0 \\\\\n",
    "-1 & 0 & 1\n",
    "\\end{pmatrix} \\times \\frac{1}{2}$\n"
   ]
  },
  {
   "cell_type": "markdown",
   "metadata": {},
   "source": [
    "**Answer 3**\n",
    "\n",
    "We use the pderect tool in matlab to give us (with code given at the end of the document), a square with a square cutout. We use Mesh > Initialize Mesh to create a mesh and use Mest > Export mesh to give us the $(p,e,t)$ matrix, all of which are included at the end of the document.\n",
    "\n"
   ]
  },
  {
   "cell_type": "markdown",
   "metadata": {},
   "source": [
    "**Answer 4** "
   ]
  },
  {
   "cell_type": "markdown",
   "metadata": {},
   "source": [
    "Observe that in our particular case we have that $a=n=1$ and $f=0$, and so our first equation is the one below:\n",
    "\n",
    "$\\begin{align*}\n",
    "-\\nabla \\cdot (\\nabla u) &= 0 & \\in \\text{int}(\\Omega)\\\\\n",
    "\\end{align*}$\n"
   ]
  },
  {
   "cell_type": "markdown",
   "metadata": {},
   "source": [
    "For the boundary equation we need to do some simplification"
   ]
  },
  {
   "cell_type": "code",
   "execution_count": 7,
   "metadata": {},
   "outputs": [
    {
     "data": {
      "image/png": "[encoded data removed]",
      "text/latex": [
       "$\\displaystyle e^{x} \\operatorname{atan}{\\left(y \\right)} + \\frac{e^{x}}{y^{2} + 1}$"
      ],
      "text/plain": [
       "                x  \n",
       " x             ℯ   \n",
       "ℯ ⋅atan(y) + ──────\n",
       "              2    \n",
       "             y  + 1"
      ]
     },
     "execution_count": 7,
     "metadata": {},
     "output_type": "execute_result"
    }
   ],
   "source": [
    "from sympy import *\n",
    "\n",
    "\n",
    "x, y = symbols('x y')\n",
    "init_printing(use_unicode=True)\n",
    "\n",
    "u = exp(x) * atan(y)\n",
    "del_u = diff(u,x) + diff(u,y)\n",
    "del_u"
   ]
  },
  {
   "cell_type": "markdown",
   "metadata": {},
   "source": [
    "this means that on the boundary we have (for simplification let $x_1=x,x_2=y$):\n",
    "$\\begin{align*}\n",
    "-n \\cdot (a \\nabla u) &= \\kappa (u-g_D) - g_N &&\\in \\partial \\Omega \\\\\n",
    "-ne^x\\arctan(y) - \\frac{ne^x}{y^2+1} &= \\kappa e^{x}\\arctan(y) - \\kappa g_D - g_N\n",
    "\\end{align*}$"
   ]
  },
  {
   "cell_type": "markdown",
   "metadata": {},
   "source": [
    "Comparing coefficients then yields that: $\\kappa = 1$, $n=-1$, $g_N = 0$ and $g_D = \\frac{-e^x}{y^2+1}$. Please see the end of the document for the matlab implementation. We then modify the code from Larson to indicate that $\\kappa$ is a constant 1 and $a$ is a constant 1. Our $p,e,t,\\xi$ matrices are at the end of the document."
   ]
  },
  {
   "cell_type": "markdown",
   "metadata": {},
   "source": [
    "**Answer 5**\n",
    "\n",
    "We will adapt Step-3 for our purpose. We replace $\\texttt{GridGenerator::hyper\\_cube(triangulation, -1,1)}$ on line 98 (stripped comments) with $\\texttt{GridGenerator::hyper\\_rectangle(triangulation,\\{-2,-6.28\\},\\{2,6.28\\})};$\n",
    "\n",
    "We then replace Line 180 with $\\texttt{Functions::SymbolicFunction<2> fun(\"exp(x)*atan(y)\")}$ however this will require the following headers: #include <deal.II/base/function_lib.h>}$ #include <deal.II/base/symbolic_function.h> #include <deal.II/base/function_spherical.h>\n",
    "\n",
    "Unfortunately I could not get symbolic functions to work, but I did get cosine boundaries to work and exponential boundaries to work."
   ]
  },
  {
   "cell_type": "code",
   "execution_count": 8,
   "metadata": {},
   "outputs": [
    {
     "data": {
      "image/png": "[encoded data removed]",
      "text/latex": [
       "$\\displaystyle y + x y + \\frac{x^{2} y}{2} + O\\left(y^{3}\\right) + O\\left(x^{3}\\right)$"
      ],
      "text/plain": [
       "           2                  \n",
       "          x ⋅y    ⎛ 3⎞    ⎛ 3⎞\n",
       "y + x⋅y + ──── + O⎝y ⎠ + O⎝x ⎠\n",
       "           2                  "
      ]
     },
     "execution_count": 8,
     "metadata": {},
     "output_type": "execute_result"
    }
   ],
   "source": [
    "expand(series(exp(x),x,n=3) * series(atan(y),y,n=3))"
   ]
  },
  {
   "cell_type": "code",
   "execution_count": null,
   "metadata": {},
   "outputs": [],
   "source": []
  }
 ],
 "metadata": {
  "interpreter": {
   "hash": "a7b5a1112396ad393f5588006c146c6954be07cba002f50e558ad6b83bb9990c"
  },
  "kernelspec": {
   "display_name": "Python 3.9.7 ('base')",
   "language": "python",
   "name": "python3"
  },
  "language_info": {
   "codemirror_mode": {
    "name": "ipython",
    "version": 3
   },
   "file_extension": ".py",
   "mimetype": "text/x-python",
   "name": "python",
   "nbconvert_exporter": "python",
   "pygments_lexer": "ipython3",
   "version": "3.9.7"
  },
  "orig_nbformat": 4
 },
 "nbformat": 4,
 "nbformat_minor": 2
}
